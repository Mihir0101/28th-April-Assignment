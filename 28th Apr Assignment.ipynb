{
 "cells": [
  {
   "cell_type": "markdown",
   "id": "83afe215-bdd1-4f6f-9228-d16454b176d8",
   "metadata": {},
   "source": [
    "# 28th April Assignment"
   ]
  },
  {
   "cell_type": "code",
   "execution_count": null,
   "id": "f1402d92-36a7-43e6-ba5f-9e9e647457e8",
   "metadata": {},
   "outputs": [],
   "source": []
  },
  {
   "cell_type": "markdown",
   "id": "2c6a989f-21f0-49d8-9ca0-15bada8f35a0",
   "metadata": {},
   "source": [
    "## Q1. What is hierarchical clustering, and how is it different from other clustering techniques?"
   ]
  },
  {
   "cell_type": "markdown",
   "id": "2f513dab-e95e-485a-ae7c-30a1a11e39e9",
   "metadata": {},
   "source": [
    "It is a clustering algorithm that creates hierarch clusters.\n",
    "\n",
    "This algorithms builds tree like structure where leaves defines datapoints and branches define clusters.\n",
    "\n",
    "Hierarchichal clustering is used for small dataset.\n",
    "\n",
    "* There is two type Hierarchichal Clustering : \n",
    "\n",
    "1. Agglomerative Clustering - Its approach is bottom to top.\n",
    "\n",
    "2. Divisive Clustering - Its approach is top to bottom.\n",
    "\n",
    "* Different from other clusters\n",
    "\n",
    "Hierarchichal clustering does not require specify number of clusters beforehand.\n",
    "\n",
    "It is more flexible regarding cluster shape and size.\n",
    "\n",
    "This algorithm is computationally more intensive,especially when size of data is large.\n",
    "\n",
    "Hierarchichal clustering naturally handles noise and outliers by forming nested clusters."
   ]
  },
  {
   "cell_type": "code",
   "execution_count": null,
   "id": "b8bf2b26-2b8e-4089-b550-183015c372be",
   "metadata": {},
   "outputs": [],
   "source": []
  },
  {
   "cell_type": "markdown",
   "id": "91f91a15-14fa-4e80-8608-5b877d4aafe4",
   "metadata": {},
   "source": [
    "## Q2. What are the two main types of hierarchical clustering algorithms? Describe each in brief."
   ]
  },
  {
   "cell_type": "markdown",
   "id": "ce901671-7b0c-4782-9de3-20642d7a81b6",
   "metadata": {},
   "source": [
    "* 1. Agglomerative Clustering\n",
    "\n",
    "This algorithm's approach is bottom to top.\n",
    "\n",
    "At the starting of process it considers individual points as clusters and creates new clusters by points which are nearest to each other.\n",
    "\n",
    "We continue this process until we don't get single cluster.\n",
    "\n",
    "* 2. Divisive Clustering\n",
    "\n",
    "This algorithm's approach is top to bottom.\n",
    "\n",
    "It considers hole data as cluster.\n",
    "\n",
    "It divides cluster until all datapoints become cluster itself."
   ]
  },
  {
   "cell_type": "code",
   "execution_count": null,
   "id": "600cdb7f-aad6-4528-b281-9ef2c3145d31",
   "metadata": {},
   "outputs": [],
   "source": []
  },
  {
   "cell_type": "markdown",
   "id": "6bc4d4ef-d9d3-490c-ad57-e99db4c58cdd",
   "metadata": {},
   "source": [
    "## Q3. How do you determine the distance between two clusters in hierarchical clustering, and what are the common distance metrics used?"
   ]
  },
  {
   "cell_type": "markdown",
   "id": "bbf9a54b-8388-46ba-9025-d1c75ae6891a",
   "metadata": {},
   "source": [
    "I use euclidean distance.\n",
    "\n",
    "1. Euclidean Distance\n",
    "\n",
    "2. Manhattan Distance"
   ]
  },
  {
   "cell_type": "code",
   "execution_count": null,
   "id": "b842d620-4af0-4e44-b560-98b737a5adfc",
   "metadata": {},
   "outputs": [],
   "source": []
  },
  {
   "cell_type": "markdown",
   "id": "9f486b0a-d7d2-4b34-9f16-ce874fc8f6f0",
   "metadata": {},
   "source": [
    "## Q4. How do you determine the optimal number of clusters in hierarchical clustering, and what are some common methods used for this purpose?"
   ]
  },
  {
   "cell_type": "markdown",
   "id": "0549c5a2-7466-45f5-93e6-a2d7e675e75c",
   "metadata": {},
   "source": [
    "Dendrogram\n",
    "\n",
    "Silhouette Score\n",
    "\n",
    "Cross Validation"
   ]
  },
  {
   "cell_type": "code",
   "execution_count": null,
   "id": "59709159-75b1-4254-ba72-70cae6aad77d",
   "metadata": {},
   "outputs": [],
   "source": []
  },
  {
   "cell_type": "markdown",
   "id": "5a2914bc-5a1b-495f-95f4-7b8e2eb2060c",
   "metadata": {},
   "source": [
    "## Q5. What are dendrograms in hierarchical clustering, and how are they useful in analyzing the results?"
   ]
  },
  {
   "cell_type": "markdown",
   "id": "75f805fc-ef76-4d33-9a34-5a6e2e79abdf",
   "metadata": {},
   "source": [
    "Dendrograms are tree like structure used to find best number of clusters.\n",
    "\n",
    "We create dendograms through different cluster and distance matrics.\n",
    "\n",
    "To select the number of clusters we have to find longest vertical line such that no horizontal line pass through it.\n",
    "\n",
    "After finding conditional vertical line we will pass a horizontal line through it,and whatever times that line interact with vertical line will become out best number of cluster."
   ]
  },
  {
   "cell_type": "code",
   "execution_count": null,
   "id": "58d862bb-7157-467b-9eac-9070f9636d7f",
   "metadata": {},
   "outputs": [],
   "source": []
  },
  {
   "cell_type": "markdown",
   "id": "828f1959-7f38-4a3a-8188-d6a965546716",
   "metadata": {},
   "source": [
    "## Q6. Can hierarchical clustering be used for both numerical and categorical data? If yes, how are the distance metrics different for each type of data?"
   ]
  },
  {
   "cell_type": "markdown",
   "id": "ada8d047-2316-4372-bcd7-dd80a6554a4d",
   "metadata": {},
   "source": [
    "Yes!!\n",
    "\n",
    "1. Numerical Datatype - Euclidean Distance and Manhattan Distance\n",
    "\n",
    "2. Categorical Datatype - Binary - Jaccard\n",
    "\n",
    "                         Multiple - Hamming"
   ]
  },
  {
   "cell_type": "code",
   "execution_count": null,
   "id": "eff344b9-6045-44ff-a76d-4f4f940ff50a",
   "metadata": {},
   "outputs": [],
   "source": []
  },
  {
   "cell_type": "markdown",
   "id": "4e3b85f1-f6ae-49e2-b0b3-ba570e26a737",
   "metadata": {},
   "source": [
    "## Q7. How can you use hierarchical clustering to identify outliers or anomalies in your data?"
   ]
  },
  {
   "cell_type": "markdown",
   "id": "a1181464-7d86-4727-bc69-53e347311159",
   "metadata": {},
   "source": [
    "Hierarchical clustering can be used for identify outliers by examining the dendrogram and observing points that are not fitting in tree."
   ]
  },
  {
   "cell_type": "code",
   "execution_count": null,
   "id": "2fe57798-f822-4ed2-b74c-66fb1eb33b18",
   "metadata": {},
   "outputs": [],
   "source": []
  }
 ],
 "metadata": {
  "kernelspec": {
   "display_name": "Python 3 (ipykernel)",
   "language": "python",
   "name": "python3"
  },
  "language_info": {
   "codemirror_mode": {
    "name": "ipython",
    "version": 3
   },
   "file_extension": ".py",
   "mimetype": "text/x-python",
   "name": "python",
   "nbconvert_exporter": "python",
   "pygments_lexer": "ipython3",
   "version": "3.10.8"
  }
 },
 "nbformat": 4,
 "nbformat_minor": 5
}
